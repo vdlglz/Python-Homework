{
 "cells": [
  {
   "cell_type": "code",
   "execution_count": 90,
   "id": "9ce6cf5f-0c4c-4de2-a2a6-70a93c58b9ec",
   "metadata": {},
   "outputs": [],
   "source": [
    "import csv \n",
    "from pathlib import Path\n",
    "\n",
    "# Imported Libraries"
   ]
  },
  {
   "cell_type": "code",
   "execution_count": 91,
   "id": "1005d20b-4183-463a-bd58-2887eb865107",
   "metadata": {},
   "outputs": [],
   "source": [
    "input_file = Path(\"budget_data.csv\")\n",
    "output_file = Path(\"budget_analysis.txt\")\n",
    "\n",
    "# Path Variables"
   ]
  },
  {
   "cell_type": "code",
   "execution_count": 92,
   "id": "7611d8b3-e794-4d86-b064-ea797a9d39d0",
   "metadata": {},
   "outputs": [],
   "source": [
    "total_months = 0\n",
    "month_of_change = 0\n",
    "net_change_list = []\n",
    "greatest_increase = [\"\",0]\n",
    "greatest_decrease = [\"\",333]\n",
    "total_net = 0\n",
    "net_change_total = 0\n",
    "net_change_months = 0\n",
    "\n",
    "# Parameter Variables"
   ]
  },
  {
   "cell_type": "code",
   "execution_count": 93,
   "id": "efe36346-793f-471d-b8db-9260d480862d",
   "metadata": {},
   "outputs": [
    {
     "name": "stdout",
     "output_type": "stream",
     "text": [
      "Financial Analysis\n",
      "--------------------------\n",
      "Total Months:86\n",
      "Total Net:38382578\n",
      "Average Change:-2315.12\n",
      "Greatest Increase:['Feb-2012', 1926159]\n",
      "Greatest Decrease:['Jul-2016', '-1163797']\n"
     ]
    }
   ],
   "source": [
    "with open(input_file) as csv_file:\n",
    "    reader = csv.reader(csv_file)\n",
    "    header = next(reader)\n",
    "    first_row = next(reader)\n",
    "    total_months += 1\n",
    "    total_net = total_net + int(first_row[1])\n",
    "    prev_net = int(first_row[1])\n",
    "    \n",
    "    for row in reader:\n",
    "        total_months += 1\n",
    "        total_net = total_net + int(row[1])\n",
    "\n",
    "# Count Total Months\n",
    "# Sum Total Net\n",
    "\n",
    "        net_changes = int(row[1]) - prev_net\n",
    "        net_change_list += [net_changes]\n",
    "        net_change_total += net_changes\n",
    "        net_change_months += 1\n",
    "        net_change_average = round(net_change_total / net_change_months, 2)\n",
    "        prev_net = int(row[1])\n",
    "    \n",
    "# Track Changes\n",
    "# Update Change List\n",
    "# Calculate Change Average\n",
    "# Redefine Prev_Net For Next Iteration\n",
    "        if net_changes > int(greatest_increase[1]):\n",
    "            greatest_increase[0] = row[0]\n",
    "            greatest_increase[1] = net_changes\n",
    "        if net_changes < int(greatest_decrease[1]):\n",
    "            greatest_decrease[0] = row[0]\n",
    "            greatest_decrease[1] = row[1]\n",
    "            \n",
    "# Track Greatest Increase and Decrease\n",
    "\n",
    "text_list =            [\"Financial Analysis\\n\",\n",
    "                        \"--------------------------\\n\",\n",
    "                        \"Total Months:\" + str(total_months) + \"\\n\",\n",
    "                        \"Total Net:\" + str(total_net) + \"\\n\",\n",
    "                        \"Average Change:\" + str(net_change_average) + \"\\n\",\n",
    "                        \"Greatest Increase:\" + str(greatest_increase) + \"\\n\",\n",
    "                        \"Greatest Decrease:\" + str(greatest_decrease)]\n",
    "        \n",
    "with open(output_file, 'w') as text:\n",
    "    \n",
    "    text.writelines(text_list)\n",
    "    text.close\n",
    "    \n",
    "# Write To Txt File\n",
    "\n",
    "print(\"Financial Analysis\")\n",
    "print(\"--------------------------\")\n",
    "print(\"Total Months:\" + str(total_months))\n",
    "print(\"Total Net:\" + str(total_net))\n",
    "print(\"Average Change:\" + str(net_change_average))\n",
    "print(\"Greatest Increase:\" + str(greatest_increase))\n",
    "print(\"Greatest Decrease:\" + str(greatest_decrease))\n",
    "# Print Results"
   ]
  },
  {
   "cell_type": "code",
   "execution_count": null,
   "id": "0c4a1580-4bc4-4014-ab14-5e8d4acc7120",
   "metadata": {},
   "outputs": [],
   "source": []
  }
 ],
 "metadata": {
  "kernelspec": {
   "display_name": "Python 3 (ipykernel)",
   "language": "python",
   "name": "python3"
  },
  "language_info": {
   "codemirror_mode": {
    "name": "ipython",
    "version": 3
   },
   "file_extension": ".py",
   "mimetype": "text/x-python",
   "name": "python",
   "nbconvert_exporter": "python",
   "pygments_lexer": "ipython3",
   "version": "3.10.10"
  }
 },
 "nbformat": 4,
 "nbformat_minor": 5
}
